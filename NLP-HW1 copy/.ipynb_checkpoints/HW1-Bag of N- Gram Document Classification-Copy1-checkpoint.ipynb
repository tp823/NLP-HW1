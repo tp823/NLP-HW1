{
 "cells": [
  {
   "cell_type": "code",
   "execution_count": 52,
   "metadata": {},
   "outputs": [],
   "source": [
    "#Load Documents \n",
    "import glob\n",
    "import numpy as np\n",
    "import spacy\n",
    "import string\n",
    "\n",
    "\n",
    "def read_data(files):\n",
    "    lines= []\n",
    "    for f in files:\n",
    "        with open(f) as file:\n",
    "            for line in file: \n",
    "                line = line.strip() #or some other preprocessing\n",
    "                lines.append(line) #storing everything in memory!\n",
    "                \n",
    "    return lines\n",
    "        \n",
    "\n",
    "def load_data(path):\n",
    "    pos = read_data(glob.glob(path+ \"pos/*\"))\n",
    "    neg = read_data(glob.glob(path+ \"neg/*\"))\n",
    "    \n",
    "    #Create Labels for Pos and Negative Reviews\n",
    "    pos = np.column_stack((pos,(np.ones(len(pos),dtype=int))))  # Label 1\n",
    "    neg = np.column_stack((neg,(np.zeros(len(neg),dtype=int))))  # Label 0\n",
    "    \n",
    "    data= np.vstack((pos,neg))\n",
    "    \n",
    "    #Randomized Data\n",
    "    np.random.shuffle(data)\n",
    "    return test_data[:,0], test_data[:,1]\n",
    "    \n",
    "\n",
    "x_test,y_test = load_data(\"/Users/Taurean/Documents/NLP-HW1/data/test/\")\n",
    "x_train,y_train = load_data(\"/Users/Taurean/Documents/NLP-HW1/data/train/\")       \n",
    "\n",
    "\n",
    "    \n",
    "    \n",
    "    "
   ]
  },
  {
   "cell_type": "code",
   "execution_count": 69,
   "metadata": {},
   "outputs": [
    {
     "data": {
      "text/plain": [
       "'The opening scene of the beach at Fircombe while amusing in itself, unfortunately provides a suitable metaphor for the film - insipid and washed out. It is actually not as corny as most of the others in the Carry On series, but maybe because of that doesn\\'t really deliver much fun. It\\'s a fair bet that the title will appeal to fans of the Benny Hill show but those looking for attractive females in bikinis and miniskirts, while they will see some in this, will probably enjoy some of the other titles in the series, such as \"Carry On Abroad\" or \"Carry On Up the Jungle\" more. The emergence of early 1970s feminism is used as a plot device which seems rather self-defeating.'"
      ]
     },
     "execution_count": 69,
     "metadata": {},
     "output_type": "execute_result"
    }
   ],
   "source": [
    "x_test[1]"
   ]
  },
  {
   "cell_type": "code",
   "execution_count": 64,
   "metadata": {},
   "outputs": [],
   "source": [
    "#Tokenize Text\n",
    "import string\n",
    "tokenizer = spacy.load('en_core_web_sm')\n",
    "punctuations = string.punctuation\n",
    "\n",
    "def tokenize(sent):\n",
    "    tokens= tokenizer(sent)\n",
    "    return [token.text.lower() for token in tokens if (token.text not in punctuations)]\n",
    "\n"
   ]
  },
  {
   "cell_type": "code",
   "execution_count": 74,
   "metadata": {},
   "outputs": [],
   "source": [
    "list_= []\n",
    "for i in range(len(x_test)):\n",
    "    tokens = tokenize(str(x_test[i]))\n",
    "    list_.append(tokens)\n"
   ]
  },
  {
   "cell_type": "code",
   "execution_count": 66,
   "metadata": {},
   "outputs": [
    {
     "data": {
      "text/plain": [
       "\"A movie this dumb should never see the light of day. The acting is lame, the violence is just all over the place, the sneaking ending is just plain stupid.<br /><br />It's all about a lawyer who saw a murder done by the R.I.C.C.O. squad. No one has never seen him, not even the hit men themselves. So he and a beautiful lady are on the run trying to find the leader of this R.I.C.C.O. squad, before they find them.<br /><br />Then the movie goes on to a romance, gun shooting, and voodoo. Now how in the hell did voodoo come in this. Never see this film if your life depends on it. Trust Me!!!!!!!!\""
      ]
     },
     "execution_count": 66,
     "metadata": {},
     "output_type": "execute_result"
    }
   ],
   "source": [
    "x_test[0]"
   ]
  },
  {
   "cell_type": "code",
   "execution_count": 79,
   "metadata": {},
   "outputs": [
    {
     "data": {
      "text/plain": [
       "['a',\n",
       " 'movie',\n",
       " 'this',\n",
       " 'dumb',\n",
       " 'should',\n",
       " 'never',\n",
       " 'see',\n",
       " 'the',\n",
       " 'light',\n",
       " 'of',\n",
       " 'day',\n",
       " 'the',\n",
       " 'acting',\n",
       " 'is',\n",
       " 'lame',\n",
       " 'the',\n",
       " 'violence',\n",
       " 'is',\n",
       " 'just',\n",
       " 'all',\n",
       " 'over',\n",
       " 'the',\n",
       " 'place',\n",
       " 'the',\n",
       " 'sneaking',\n",
       " 'ending',\n",
       " 'is',\n",
       " 'just',\n",
       " 'plain',\n",
       " 'stupid.<br',\n",
       " '/><br',\n",
       " '/>it',\n",
       " \"'s\",\n",
       " 'all',\n",
       " 'about',\n",
       " 'a',\n",
       " 'lawyer',\n",
       " 'who',\n",
       " 'saw',\n",
       " 'a',\n",
       " 'murder',\n",
       " 'done',\n",
       " 'by',\n",
       " 'the',\n",
       " 'r.i.c.c.o.',\n",
       " 'squad',\n",
       " 'no',\n",
       " 'one',\n",
       " 'has',\n",
       " 'never',\n",
       " 'seen',\n",
       " 'him',\n",
       " 'not',\n",
       " 'even',\n",
       " 'the',\n",
       " 'hit',\n",
       " 'men',\n",
       " 'themselves',\n",
       " 'so',\n",
       " 'he',\n",
       " 'and',\n",
       " 'a',\n",
       " 'beautiful',\n",
       " 'lady',\n",
       " 'are',\n",
       " 'on',\n",
       " 'the',\n",
       " 'run',\n",
       " 'trying',\n",
       " 'to',\n",
       " 'find',\n",
       " 'the',\n",
       " 'leader',\n",
       " 'of',\n",
       " 'this',\n",
       " 'r.i.c.c.o.',\n",
       " 'squad',\n",
       " 'before',\n",
       " 'they',\n",
       " 'find',\n",
       " 'them.<br',\n",
       " '/><br',\n",
       " '/>then',\n",
       " 'the',\n",
       " 'movie',\n",
       " 'goes',\n",
       " 'on',\n",
       " 'to',\n",
       " 'a',\n",
       " 'romance',\n",
       " 'gun',\n",
       " 'shooting',\n",
       " 'and',\n",
       " 'voodoo',\n",
       " 'now',\n",
       " 'how',\n",
       " 'in',\n",
       " 'the',\n",
       " 'hell',\n",
       " 'did',\n",
       " 'voodoo',\n",
       " 'come',\n",
       " 'in',\n",
       " 'this',\n",
       " 'never',\n",
       " 'see',\n",
       " 'this',\n",
       " 'film',\n",
       " 'if',\n",
       " 'your',\n",
       " 'life',\n",
       " 'depends',\n",
       " 'on',\n",
       " 'it',\n",
       " 'trust',\n",
       " 'me']"
      ]
     },
     "execution_count": 79,
     "metadata": {},
     "output_type": "execute_result"
    }
   ],
   "source": [
    "list_[0]"
   ]
  },
  {
   "cell_type": "code",
   "execution_count": null,
   "metadata": {},
   "outputs": [],
   "source": []
  }
 ],
 "metadata": {
  "kernelspec": {
   "display_name": "Python 3",
   "language": "python",
   "name": "python3"
  },
  "language_info": {
   "codemirror_mode": {
    "name": "ipython",
    "version": 3
   },
   "file_extension": ".py",
   "mimetype": "text/x-python",
   "name": "python",
   "nbconvert_exporter": "python",
   "pygments_lexer": "ipython3",
   "version": "3.6.6"
  }
 },
 "nbformat": 4,
 "nbformat_minor": 2
}
