{
 "cells": [
  {
   "cell_type": "code",
   "execution_count": null,
   "metadata": {},
   "outputs": [],
   "source": [
    "#Create File Index for Train and Test Data"
   ]
  },
  {
   "cell_type": "code",
   "execution_count": 11,
   "metadata": {},
   "outputs": [
    {
     "name": "stdout",
     "output_type": "stream",
     "text": [
      "The number of samples in x_train is 25000\n",
      "The number of samples in x_val is 5000\n",
      "The number of samples in x_test is 20000\n",
      "The number of samples in x_train is 25000\n",
      "The number of samples in x_val is 5000\n",
      "The number of samples in x_test is 20000\n"
     ]
    }
   ],
   "source": [
    "#Load Documents \n",
    "import glob\n",
    "import numpy as np\n",
    "import spacy\n",
    "import string\n",
    "\n",
    "\n",
    "#Create File Index for Train and Val Data\n",
    "def create_index(path,num_val_samples):\n",
    "    pos = glob.glob(path+ \"pos/*\")\n",
    "    neg = glob.glob(path+ \"neg/*\")\n",
    "    pos = np.column_stack((pos,(np.ones(len(pos),dtype=int))))  # Label 1\n",
    "    neg = np.column_stack((neg,(np.zeros(len(neg),dtype=int))))  # Label 0\n",
    "    data= np.vstack((pos,neg))\n",
    "    \n",
    "    #Create Files Names For Val and Train Set\n",
    "    np.random.shuffle(data)\n",
    "    val, test = data[:num_val_samples,:], data[num_val_samples:,:]\n",
    "    \n",
    "    #Save files\n",
    "    np.savetxt(\"val_path.txt\",val[:,0], delimiter=\",\", fmt=\"%s\") \n",
    "    np.savetxt(\"val_target.txt\",val[:,1], delimiter=\",\", fmt= \"%s\")\n",
    "    np.savetxt(\"test_path.txt\",test[:,0], delimiter=\",\", fmt = \"%s\") \n",
    "    np.savetxt(\"test_target.txt\",test[:,1], delimiter=\",\", fmt= \"%s\") \n",
    "\n",
    "\n",
    "def read_data(files):\n",
    "    lines= []\n",
    "    for f in files:\n",
    "        with open(f) as file:\n",
    "            for line in file: \n",
    "                line = line.strip() #or some other preprocessing\n",
    "                lines.append(line) #storing everything in memory!\n",
    "                \n",
    "    return lines\n",
    "        \n",
    "\n",
    "def load_data(path):\n",
    "    if isinstance(path, list):\n",
    "        data = read_data(path)\n",
    "        \n",
    "    else:\n",
    "        pos = read_data(glob.glob(path+ \"pos/*\"))\n",
    "        neg = read_data(glob.glob(path+ \"neg/*\"))\n",
    "            \n",
    "        #Create Labels for Pos and Negative Reviews\n",
    "        pos = np.column_stack((pos,(np.ones(len(pos),dtype=int))))  # Label 1\n",
    "        neg = np.column_stack((neg,(np.zeros(len(neg),dtype=int))))  # Label 0\n",
    "        data= np.vstack((pos,neg))\n",
    "        np.random.shuffle(data)\n",
    "    return data\n",
    "    \n",
    "    \n",
    "#Training Data\n",
    "test_data = load_data(\"/Users/Taurean/Documents/NLP-HW1/data/train/\")\n",
    "x_train, y_train = test_data[:,0], test_data[:,1]\n",
    "\n",
    "#Validation Data\n",
    "x_val = load_data(list(np.genfromtxt(\"/Users/Taurean/Documents/NLP-HW1/val_path.txt\",dtype='str')))\n",
    "y_val = np.genfromtxt(\"/Users/Taurean/Documents/NLP-HW1/val_target.txt\",dtype='int')\n",
    "\n",
    "#Test Data\n",
    "x_test = load_data(list(np.genfromtxt(\"/Users/Taurean/Documents/NLP-HW1/test_path.txt\",dtype='str')))\n",
    "y_test = np.genfromtxt(\"/Users/Taurean/Documents/NLP-HW1/test_target.txt\",dtype='int')\n",
    "\n"
   ]
  },
  {
   "cell_type": "code",
   "execution_count": 12,
   "metadata": {},
   "outputs": [
    {
     "name": "stdout",
     "output_type": "stream",
     "text": [
      "The number of samples in x_train is 25000\n",
      "The number of samples in x_val is 5000\n",
      "The number of samples in x_test is 20000\n",
      "The number of samples in x_train is 25000\n",
      "The number of samples in x_val is 5000\n",
      "The number of samples in x_test is 20000\n"
     ]
    }
   ],
   "source": [
    "#Print Total Samples in the data\n",
    "print(\"The number of samples in x_train is {:d}\".format(len(x_train)))\n",
    "print(\"The number of samples in x_val is {:d}\".format(len(x_val)))\n",
    "print(\"The number of samples in x_test is {:d}\".format(len(x_test)))"
   ]
  },
  {
   "cell_type": "code",
   "execution_count": 14,
   "metadata": {},
   "outputs": [
    {
     "ename": "SyntaxError",
     "evalue": "invalid syntax (<ipython-input-14-2fd3e88ac893>, line 1)",
     "output_type": "error",
     "traceback": [
      "\u001b[0;36m  File \u001b[0;32m\"<ipython-input-14-2fd3e88ac893>\"\u001b[0;36m, line \u001b[0;32m1\u001b[0m\n\u001b[0;31m    print\"Taurean\"\u001b[0m\n\u001b[0m                 ^\u001b[0m\n\u001b[0;31mSyntaxError\u001b[0m\u001b[0;31m:\u001b[0m invalid syntax\n"
     ]
    },
    {
     "ename": "SyntaxError",
     "evalue": "invalid syntax (<ipython-input-14-2fd3e88ac893>, line 1)",
     "output_type": "error",
     "traceback": [
      "\u001b[0;36m  File \u001b[0;32m\"<ipython-input-14-2fd3e88ac893>\"\u001b[0;36m, line \u001b[0;32m1\u001b[0m\n\u001b[0;31m    print\"Taurean\"\u001b[0m\n\u001b[0m                 ^\u001b[0m\n\u001b[0;31mSyntaxError\u001b[0m\u001b[0;31m:\u001b[0m invalid syntax\n"
     ]
    }
   ],
   "source": []
  },
  {
   "cell_type": "code",
   "execution_count": null,
   "metadata": {},
   "outputs": [],
   "source": []
  }
 ],
 "metadata": {
  "kernelspec": {
   "display_name": "Python 3",
   "language": "python",
   "name": "python3"
  },
  "language_info": {
   "codemirror_mode": {
    "name": "ipython",
    "version": 3
   },
   "file_extension": ".py",
   "mimetype": "text/x-python",
   "name": "python",
   "nbconvert_exporter": "python",
   "pygments_lexer": "ipython3",
   "version": "3.6.6"
  }
 },
 "nbformat": 4,
 "nbformat_minor": 2
}
